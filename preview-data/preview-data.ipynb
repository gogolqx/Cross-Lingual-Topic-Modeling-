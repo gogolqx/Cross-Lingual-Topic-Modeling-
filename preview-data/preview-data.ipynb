{
 "cells": [
  {
   "cell_type": "code",
   "execution_count": 8,
   "metadata": {},
   "outputs": [],
   "source": [
    "from datetime import datetime\n",
    "import pandas\n",
    "import os"
   ]
  },
  {
   "cell_type": "code",
   "execution_count": 19,
   "metadata": {},
   "outputs": [
    {
     "name": "stdout",
     "output_type": "stream",
     "text": [
      "/Users/liu0001q/nlp/opinion-lab-group-2.3/media-agenda-dataset-quora\n"
     ]
    }
   ],
   "source": [
    "print(os.path.dirname(os.path.abspath('../media-agenda-dataset-quora/nytimes.json')))\n"
   ]
  },
  {
   "cell_type": "code",
   "execution_count": 22,
   "metadata": {},
   "outputs": [],
   "source": [
    "# import pandas\n",
    "\n",
    "nytimes = pandas.read_json('/Users/liu0001q/nlp/media-agenda-dataset-quora/nytimes.json')\n",
    "spiegel = pandas.read_json('/Users/liu0001q/nlp//media-agenda-dataset-quora/spiegel.json')\n",
    "quora = pandas.read_json('/Users/liu0001q/nlp/media-agenda-dataset-quora/quora.json')"
   ]
  },
  {
   "cell_type": "code",
   "execution_count": 3,
   "metadata": {},
   "outputs": [],
   "source": [
    "nytimes = nytimes[nytimes['relevant'] == 1.0]\n",
    "spiegel = spiegel[spiegel['relevant'] == 1.0]\n",
    "quora = quora[quora['relevant'] == 1.0]"
   ]
  },
  {
   "cell_type": "code",
   "execution_count": 4,
   "metadata": {},
   "outputs": [],
   "source": [
    "nytimes['year'] = nytimes['article_time'].map(lambda x: x.strftime(\"%Y\"))\n",
    "nytimes['month'] = nytimes['article_time'].map(lambda x: x.strftime(\"%m\"))\n",
    "nytimes['day'] = nytimes['article_time'].map(lambda x: x.strftime(\"%d\"))"
   ]
  },
  {
   "cell_type": "code",
   "execution_count": 5,
   "metadata": {},
   "outputs": [],
   "source": [
    "# from datetime import datetime\n",
    "\n",
    "if isinstance(spiegel['article_time'][1], str):\n",
    "    spiegel['article_time'] = spiegel['article_time'].map(lambda x: datetime.strptime(x, '%Y-%m-%d %H:%M:%S'))\n",
    "spiegel['year'] = spiegel['article_time'].map(lambda x: x.strftime(\"%Y\"))\n",
    "spiegel['month'] = spiegel['article_time'].map(lambda x: x.strftime(\"%m\"))\n",
    "spiegel['day'] = spiegel['article_time'].map(lambda x: x.strftime(\"%d\"))"
   ]
  },
  {
   "cell_type": "code",
   "execution_count": 6,
   "metadata": {},
   "outputs": [],
   "source": [
    "quora['year'] = quora['article_time'].map(lambda x: x.strftime(\"%Y\"))\n",
    "quora['month'] = quora['article_time'].map(lambda x: x.strftime(\"%m\"))\n",
    "quora['day'] = quora['article_time'].map(lambda x: x.strftime(\"%d\"))"
   ]
  },
  {
   "cell_type": "code",
   "execution_count": 7,
   "metadata": {},
   "outputs": [
    {
     "name": "stdout",
     "output_type": "stream",
     "text": [
      "New York Times\n",
      "Total:\t\t 327\n",
      "With comments:\t 99\n",
      "year\n",
      "2006     5\n",
      "2007     5\n",
      "2008    14\n",
      "2009     7\n",
      "2010     4\n",
      "2011     4\n",
      "2012    18\n",
      "2013     6\n",
      "2014    10\n",
      "2015    10\n",
      "2016     8\n",
      "2017     8\n",
      "Name: year, dtype: int64\n",
      "Without comments:\t 228\n",
      "year\n",
      "1970     1\n",
      "1971     1\n",
      "1972     1\n",
      "1986     1\n",
      "1987     1\n",
      "1989     3\n",
      "1990     1\n",
      "1992     1\n",
      "1994     1\n",
      "1995     2\n",
      "1996     6\n",
      "1997     2\n",
      "1998     5\n",
      "1999     2\n",
      "2000     8\n",
      "2001     4\n",
      "2002     6\n",
      "2003     9\n",
      "2004     2\n",
      "2005     9\n",
      "2006    18\n",
      "2007    12\n",
      "2008    14\n",
      "2009    13\n",
      "2010    12\n",
      "2011     9\n",
      "2012    17\n",
      "2013     6\n",
      "2014    13\n",
      "2015    15\n",
      "2016    17\n",
      "2017    16\n",
      "Name: year, dtype: int64\n",
      "Der Spiegel\n",
      "Total:\t\t 152\n",
      "With comments:\t 61\n",
      "year\n",
      "2007     2\n",
      "2008     4\n",
      "2009     3\n",
      "2010     4\n",
      "2011    11\n",
      "2012     6\n",
      "2013     6\n",
      "2014     3\n",
      "2015     7\n",
      "2016     4\n",
      "2017    11\n",
      "Name: year, dtype: int64\n",
      "Without comments:\t 91\n",
      "year\n",
      "2007    15\n",
      "2008    15\n",
      "2009     9\n",
      "2010     6\n",
      "2011     9\n",
      "2012     3\n",
      "2013     9\n",
      "2014     8\n",
      "2015     6\n",
      "2016     8\n",
      "2017     3\n",
      "Name: year, dtype: int64\n",
      "Quora\n",
      "Total:\t\t 1497\n",
      "With comments:\t 1304\n",
      "year\n",
      "2009      2\n",
      "2010     25\n",
      "2011     76\n",
      "2012     61\n",
      "2013     66\n",
      "2014    189\n",
      "2015    231\n",
      "2016    354\n",
      "2017    300\n",
      "Name: year, dtype: int64\n",
      "Without comments:\t 193\n",
      "year\n",
      "2010     1\n",
      "2011    12\n",
      "2012     3\n",
      "2013    11\n",
      "2014    12\n",
      "2015    44\n",
      "2016    46\n",
      "2017    64\n",
      "Name: year, dtype: int64\n"
     ]
    }
   ],
   "source": [
    "print('New York Times')\n",
    "print('Total:\\t\\t', nytimes['relevant'].count())\n",
    "print('With comments:\\t', nytimes[nytimes['comments'].str.len() != 0]['relevant'].count())\n",
    "print(nytimes[nytimes['comments'].str.len() != 0].groupby(['year'])['year'].count())\n",
    "print('Without comments:\\t', nytimes[nytimes['comments'].str.len() == 0]['relevant'].count())\n",
    "print(nytimes[nytimes['comments'].str.len() == 0].groupby(['year'])['year'].count())\n",
    "\n",
    "print('Der Spiegel')\n",
    "print('Total:\\t\\t', spiegel['relevant'].count())\n",
    "print('With comments:\\t', spiegel[spiegel['comments'].str.len() != 0]['relevant'].count())\n",
    "print(spiegel[spiegel['comments'].str.len() != 0].groupby(['year'])['year'].count())\n",
    "print('Without comments:\\t', spiegel[spiegel['comments'].str.len() == 0]['relevant'].count())\n",
    "print(spiegel[spiegel['comments'].str.len() == 0].groupby(['year'])['year'].count())\n",
    "\n",
    "print('Quora')\n",
    "print('Total:\\t\\t', quora['relevant'].count())\n",
    "print('With comments:\\t', quora[quora['comments'].str.len() != 0]['relevant'].count())\n",
    "print(quora[quora['comments'].str.len() != 0].groupby(['year'])['year'].count())\n",
    "print('Without comments:\\t', quora[quora['comments'].str.len() == 0]['relevant'].count())\n",
    "print(quora[quora['comments'].str.len() == 0].groupby(['year'])['year'].count())"
   ]
  },
  {
   "cell_type": "code",
   "execution_count": null,
   "metadata": {},
   "outputs": [],
   "source": []
  }
 ],
 "metadata": {
  "kernelspec": {
   "display_name": "Python 3",
   "language": "python",
   "name": "python3"
  },
  "language_info": {
   "codemirror_mode": {
    "name": "ipython",
    "version": 3
   },
   "file_extension": ".py",
   "mimetype": "text/x-python",
   "name": "python",
   "nbconvert_exporter": "python",
   "pygments_lexer": "ipython3",
   "version": "3.7.7"
  }
 },
 "nbformat": 4,
 "nbformat_minor": 2
}
