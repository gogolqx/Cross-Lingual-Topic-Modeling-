{
  "nbformat": 4,
  "nbformat_minor": 0,
  "metadata": {
    "colab": {
      "name": "sentiment_assingment.ipynb",
      "provenance": [],
      "toc_visible": true
    },
    "kernelspec": {
      "name": "python3",
      "display_name": "Python 3"
    }
  },
  "cells": [
    {
      "cell_type": "code",
      "metadata": {
        "id": "-5H78kkROfMt",
        "colab_type": "code",
        "colab": {
          "base_uri": "https://localhost:8080/",
          "height": 34
        },
        "outputId": "ab2bd473-3f2c-4553-d8b6-03b8dbed472d"
      },
      "source": [
        "from google.colab import drive\n",
        "drive.mount('/content/drive')"
      ],
      "execution_count": 1,
      "outputs": [
        {
          "output_type": "stream",
          "text": [
            "Drive already mounted at /content/drive; to attempt to forcibly remount, call drive.mount(\"/content/drive\", force_remount=True).\n"
          ],
          "name": "stdout"
        }
      ]
    },
    {
      "cell_type": "markdown",
      "metadata": {
        "id": "pqa8tD5hO1qB",
        "colab_type": "text"
      },
      "source": [
        "# Import modules and utilities"
      ]
    },
    {
      "cell_type": "code",
      "metadata": {
        "id": "rma5s4hKOzBE",
        "colab_type": "code",
        "colab": {
          "base_uri": "https://localhost:8080/",
          "height": 52
        },
        "outputId": "d12ed197-0a4e-4c1c-a7ea-808282dc55bd"
      },
      "source": [
        "%cd '/content/drive/My Drive/Colab Notebooks/opinion-lab-group-2.3/refactorization'\n",
        "%pwd "
      ],
      "execution_count": 2,
      "outputs": [
        {
          "output_type": "stream",
          "text": [
            "/content/drive/My Drive/Colab Notebooks/opinion-lab-group-2.3/refactorization\n"
          ],
          "name": "stdout"
        },
        {
          "output_type": "execute_result",
          "data": {
            "application/vnd.google.colaboratory.intrinsic+json": {
              "type": "string"
            },
            "text/plain": [
              "'/content/drive/My Drive/Colab Notebooks/opinion-lab-group-2.3/refactorization'"
            ]
          },
          "metadata": {
            "tags": []
          },
          "execution_count": 2
        }
      ]
    },
    {
      "cell_type": "code",
      "metadata": {
        "id": "RIds3IyHQ0lC",
        "colab_type": "code",
        "colab": {
          "base_uri": "https://localhost:8080/",
          "height": 877
        },
        "outputId": "dbaa4267-8fb1-4e0d-d41f-b1a18bb5b99a"
      },
      "source": [
        "!pip install spacy\n",
        "!pip install spacy-sentiws\n",
        "!python -m spacy download de"
      ],
      "execution_count": 3,
      "outputs": [
        {
          "output_type": "stream",
          "text": [
            "Requirement already satisfied: spacy in /usr/local/lib/python3.6/dist-packages (2.3.2)\n",
            "Requirement already satisfied: blis<0.5.0,>=0.4.0 in /usr/local/lib/python3.6/dist-packages (from spacy) (0.4.1)\n",
            "Requirement already satisfied: setuptools in /usr/local/lib/python3.6/dist-packages (from spacy) (49.1.0)\n",
            "Requirement already satisfied: numpy>=1.15.0 in /usr/local/lib/python3.6/dist-packages (from spacy) (1.18.5)\n",
            "Requirement already satisfied: tqdm<5.0.0,>=4.38.0 in /usr/local/lib/python3.6/dist-packages (from spacy) (4.41.1)\n",
            "Requirement already satisfied: requests<3.0.0,>=2.13.0 in /usr/local/lib/python3.6/dist-packages (from spacy) (2.23.0)\n",
            "Requirement already satisfied: murmurhash<1.1.0,>=0.28.0 in /usr/local/lib/python3.6/dist-packages (from spacy) (1.0.2)\n",
            "Requirement already satisfied: srsly<1.1.0,>=1.0.2 in /usr/local/lib/python3.6/dist-packages (from spacy) (1.0.2)\n",
            "Requirement already satisfied: plac<1.2.0,>=0.9.6 in /usr/local/lib/python3.6/dist-packages (from spacy) (1.1.3)\n",
            "Requirement already satisfied: thinc==7.4.1 in /usr/local/lib/python3.6/dist-packages (from spacy) (7.4.1)\n",
            "Requirement already satisfied: wasabi<1.1.0,>=0.4.0 in /usr/local/lib/python3.6/dist-packages (from spacy) (0.7.1)\n",
            "Requirement already satisfied: cymem<2.1.0,>=2.0.2 in /usr/local/lib/python3.6/dist-packages (from spacy) (2.0.3)\n",
            "Requirement already satisfied: catalogue<1.1.0,>=0.0.7 in /usr/local/lib/python3.6/dist-packages (from spacy) (1.0.0)\n",
            "Requirement already satisfied: preshed<3.1.0,>=3.0.2 in /usr/local/lib/python3.6/dist-packages (from spacy) (3.0.2)\n",
            "Requirement already satisfied: urllib3!=1.25.0,!=1.25.1,<1.26,>=1.21.1 in /usr/local/lib/python3.6/dist-packages (from requests<3.0.0,>=2.13.0->spacy) (1.24.3)\n",
            "Requirement already satisfied: chardet<4,>=3.0.2 in /usr/local/lib/python3.6/dist-packages (from requests<3.0.0,>=2.13.0->spacy) (3.0.4)\n",
            "Requirement already satisfied: idna<3,>=2.5 in /usr/local/lib/python3.6/dist-packages (from requests<3.0.0,>=2.13.0->spacy) (2.10)\n",
            "Requirement already satisfied: certifi>=2017.4.17 in /usr/local/lib/python3.6/dist-packages (from requests<3.0.0,>=2.13.0->spacy) (2020.6.20)\n",
            "Requirement already satisfied: importlib-metadata>=0.20; python_version < \"3.8\" in /usr/local/lib/python3.6/dist-packages (from catalogue<1.1.0,>=0.0.7->spacy) (1.7.0)\n",
            "Requirement already satisfied: zipp>=0.5 in /usr/local/lib/python3.6/dist-packages (from importlib-metadata>=0.20; python_version < \"3.8\"->catalogue<1.1.0,>=0.0.7->spacy) (3.1.0)\n",
            "Requirement already satisfied: spacy-sentiws in /usr/local/lib/python3.6/dist-packages (0.0.6)\n",
            "Requirement already satisfied: de_core_news_sm==2.3.0 from https://github.com/explosion/spacy-models/releases/download/de_core_news_sm-2.3.0/de_core_news_sm-2.3.0.tar.gz#egg=de_core_news_sm==2.3.0 in /usr/local/lib/python3.6/dist-packages (2.3.0)\n",
            "Requirement already satisfied: spacy<2.4.0,>=2.3.0 in /usr/local/lib/python3.6/dist-packages (from de_core_news_sm==2.3.0) (2.3.2)\n",
            "Requirement already satisfied: preshed<3.1.0,>=3.0.2 in /usr/local/lib/python3.6/dist-packages (from spacy<2.4.0,>=2.3.0->de_core_news_sm==2.3.0) (3.0.2)\n",
            "Requirement already satisfied: tqdm<5.0.0,>=4.38.0 in /usr/local/lib/python3.6/dist-packages (from spacy<2.4.0,>=2.3.0->de_core_news_sm==2.3.0) (4.41.1)\n",
            "Requirement already satisfied: thinc==7.4.1 in /usr/local/lib/python3.6/dist-packages (from spacy<2.4.0,>=2.3.0->de_core_news_sm==2.3.0) (7.4.1)\n",
            "Requirement already satisfied: numpy>=1.15.0 in /usr/local/lib/python3.6/dist-packages (from spacy<2.4.0,>=2.3.0->de_core_news_sm==2.3.0) (1.18.5)\n",
            "Requirement already satisfied: srsly<1.1.0,>=1.0.2 in /usr/local/lib/python3.6/dist-packages (from spacy<2.4.0,>=2.3.0->de_core_news_sm==2.3.0) (1.0.2)\n",
            "Requirement already satisfied: cymem<2.1.0,>=2.0.2 in /usr/local/lib/python3.6/dist-packages (from spacy<2.4.0,>=2.3.0->de_core_news_sm==2.3.0) (2.0.3)\n",
            "Requirement already satisfied: blis<0.5.0,>=0.4.0 in /usr/local/lib/python3.6/dist-packages (from spacy<2.4.0,>=2.3.0->de_core_news_sm==2.3.0) (0.4.1)\n",
            "Requirement already satisfied: setuptools in /usr/local/lib/python3.6/dist-packages (from spacy<2.4.0,>=2.3.0->de_core_news_sm==2.3.0) (49.1.0)\n",
            "Requirement already satisfied: wasabi<1.1.0,>=0.4.0 in /usr/local/lib/python3.6/dist-packages (from spacy<2.4.0,>=2.3.0->de_core_news_sm==2.3.0) (0.7.1)\n",
            "Requirement already satisfied: requests<3.0.0,>=2.13.0 in /usr/local/lib/python3.6/dist-packages (from spacy<2.4.0,>=2.3.0->de_core_news_sm==2.3.0) (2.23.0)\n",
            "Requirement already satisfied: murmurhash<1.1.0,>=0.28.0 in /usr/local/lib/python3.6/dist-packages (from spacy<2.4.0,>=2.3.0->de_core_news_sm==2.3.0) (1.0.2)\n",
            "Requirement already satisfied: catalogue<1.1.0,>=0.0.7 in /usr/local/lib/python3.6/dist-packages (from spacy<2.4.0,>=2.3.0->de_core_news_sm==2.3.0) (1.0.0)\n",
            "Requirement already satisfied: plac<1.2.0,>=0.9.6 in /usr/local/lib/python3.6/dist-packages (from spacy<2.4.0,>=2.3.0->de_core_news_sm==2.3.0) (1.1.3)\n",
            "Requirement already satisfied: certifi>=2017.4.17 in /usr/local/lib/python3.6/dist-packages (from requests<3.0.0,>=2.13.0->spacy<2.4.0,>=2.3.0->de_core_news_sm==2.3.0) (2020.6.20)\n",
            "Requirement already satisfied: idna<3,>=2.5 in /usr/local/lib/python3.6/dist-packages (from requests<3.0.0,>=2.13.0->spacy<2.4.0,>=2.3.0->de_core_news_sm==2.3.0) (2.10)\n",
            "Requirement already satisfied: chardet<4,>=3.0.2 in /usr/local/lib/python3.6/dist-packages (from requests<3.0.0,>=2.13.0->spacy<2.4.0,>=2.3.0->de_core_news_sm==2.3.0) (3.0.4)\n",
            "Requirement already satisfied: urllib3!=1.25.0,!=1.25.1,<1.26,>=1.21.1 in /usr/local/lib/python3.6/dist-packages (from requests<3.0.0,>=2.13.0->spacy<2.4.0,>=2.3.0->de_core_news_sm==2.3.0) (1.24.3)\n",
            "Requirement already satisfied: importlib-metadata>=0.20; python_version < \"3.8\" in /usr/local/lib/python3.6/dist-packages (from catalogue<1.1.0,>=0.0.7->spacy<2.4.0,>=2.3.0->de_core_news_sm==2.3.0) (1.7.0)\n",
            "Requirement already satisfied: zipp>=0.5 in /usr/local/lib/python3.6/dist-packages (from importlib-metadata>=0.20; python_version < \"3.8\"->catalogue<1.1.0,>=0.0.7->spacy<2.4.0,>=2.3.0->de_core_news_sm==2.3.0) (3.1.0)\n",
            "\u001b[38;5;2m✔ Download and installation successful\u001b[0m\n",
            "You can now load the model via spacy.load('de_core_news_sm')\n",
            "\u001b[38;5;2m✔ Linking successful\u001b[0m\n",
            "/usr/local/lib/python3.6/dist-packages/de_core_news_sm -->\n",
            "/usr/local/lib/python3.6/dist-packages/spacy/data/de\n",
            "You can now load the model via spacy.load('de')\n"
          ],
          "name": "stdout"
        }
      ]
    },
    {
      "cell_type": "code",
      "metadata": {
        "id": "_oZEVefyVuXV",
        "colab_type": "code",
        "colab": {
          "base_uri": "https://localhost:8080/",
          "height": 174
        },
        "outputId": "afaaec8a-05e1-4c7d-a6d3-27ad6916f6b9"
      },
      "source": [
        "import nltk\n",
        "nltk.download('averaged_perceptron_tagger')\n",
        "nltk.download('wordnet')\n",
        "nltk.download('sentiwordnet')"
      ],
      "execution_count": 16,
      "outputs": [
        {
          "output_type": "stream",
          "text": [
            "[nltk_data] Downloading package averaged_perceptron_tagger to\n",
            "[nltk_data]     /root/nltk_data...\n",
            "[nltk_data]   Package averaged_perceptron_tagger is already up-to-\n",
            "[nltk_data]       date!\n",
            "[nltk_data] Downloading package wordnet to /root/nltk_data...\n",
            "[nltk_data]   Package wordnet is already up-to-date!\n",
            "[nltk_data] Downloading package sentiwordnet to /root/nltk_data...\n",
            "[nltk_data]   Unzipping corpora/sentiwordnet.zip.\n"
          ],
          "name": "stdout"
        },
        {
          "output_type": "execute_result",
          "data": {
            "text/plain": [
              "True"
            ]
          },
          "metadata": {
            "tags": []
          },
          "execution_count": 16
        }
      ]
    },
    {
      "cell_type": "code",
      "metadata": {
        "id": "a-5zVMQnO4Ej",
        "colab_type": "code",
        "colab": {}
      },
      "source": [
        "import numpy as np\n",
        "\n",
        "import sentiment\n",
        "from util import Source, load_sentences, load_sentences_index"
      ],
      "execution_count": 18,
      "outputs": []
    },
    {
      "cell_type": "markdown",
      "metadata": {
        "id": "GDijalSLO92K",
        "colab_type": "text"
      },
      "source": [
        "# Load all sentences"
      ]
    },
    {
      "cell_type": "code",
      "metadata": {
        "id": "W1rgyAg5O9aE",
        "colab_type": "code",
        "colab": {
          "base_uri": "https://localhost:8080/",
          "height": 174
        },
        "outputId": "b63b53c6-1a98-4b36-d4d8-58b272d7cd13"
      },
      "source": [
        "sfile = '/content/drive/My Drive/Colab Notebooks/opinion-lab-group-2.3/output_emb/all_sentences_str.json'\n",
        "ifile = '/content/drive/My Drive/Colab Notebooks/opinion-lab-group-2.3/output_emb/all_sentences_ind.json'\n",
        "\n",
        "sentences = load_sentences(sfile)\n",
        "sentences = np.array(sentences)\n",
        "\n",
        "en_indeces = load_sentences_index(ifile, [Source.NYTIMES, Source.QUORA])\n",
        "de_indeces = load_sentences_index(ifile, [Source.SPEIGEL])"
      ],
      "execution_count": 20,
      "outputs": [
        {
          "output_type": "stream",
          "text": [
            "Sentences file - loaded\n",
            "Done - appended all sentences\n",
            "Number of tokenized sentences from corpus: 353786\n",
            "Sentences index file - loaded\n",
            "Done - appended all sentences indeces\n",
            "Number of indeces from corpus ['nytimes', 'quora']: 136425\n",
            "Sentences index file - loaded\n",
            "Done - appended all sentences indeces\n",
            "Number of indeces from corpus ['spiegel']: 217361\n"
          ],
          "name": "stdout"
        }
      ]
    },
    {
      "cell_type": "markdown",
      "metadata": {
        "id": "VWY2LDbQW4Yr",
        "colab_type": "text"
      },
      "source": [
        "# Example of getting sentiment scores for English sentences"
      ]
    },
    {
      "cell_type": "code",
      "metadata": {
        "id": "avDsiSsWTOBi",
        "colab_type": "code",
        "colab": {
          "base_uri": "https://localhost:8080/",
          "height": 229
        },
        "outputId": "82ae699c-0067-4d98-c8c3-e81265f1026b"
      },
      "source": [
        "print('{:<20}  {}'.format('Score', 'Sentence'))\n",
        "for i in range(10):\n",
        "  sentence = sentences[en_indeces[i]]\n",
        "  score = sentiment.sentence_sentiment(str(sentence), 'en')\n",
        "\n",
        "  print('{:<20}  {}'.format(score, sentence))"
      ],
      "execution_count": 39,
      "outputs": [
        {
          "output_type": "stream",
          "text": [
            "Score                 Sentence\n",
            "0.125                 Customers at McDonald's restaurants in New England are about to get something a little different when they order coffee.\n",
            "-0.125                Through a deal with Green Mountain Coffee Roasters and Newman's Own, McDonald's will soon be serving a coffee that comes from organic beans and is certified Fair Trade because it meets higher standards in the treatment of coffee workers.\n",
            "0.075                 The move, while still a test in a limited region, reflects a much broader trend: The growing interest among large food companies in offering organic foods along with their standard products.\n",
            "0.5                   General Mills markets the Cascadian Farms and Muir Glen brands; Kraft owns Back to Nature and Boca Foods, which makes soy burgers.\n",
            "-0.03125              Within the last few years, Dean Foods, the dairy giant, has acquired Horizon Organic and White Wave, maker of Silk organic soymilk.\n",
            "0                     Groupe Danone, the French dairy company, owns Stonyfield Farm.\n",
            "0.0625                Wal-Mart wants in, too.\n",
            "0.15625               \"We are particularly excited about organic food, the fastest-growing category in all of food,\" Lee Scott, Wal-Mart's chief executive, said at a recent shareholder meeting.\n",
            "0                     \"It's a great example of how Wal-Mart can appeal to a wider range of customers.\".\n",
            "0.20833333333333334   But as organic food enters the mainstream, evolving from an idealistic subculture rooted in images of granola and Birkenstocks, a bitter debate has ensued over what exactly the word \"organic\" should mean.\n"
          ],
          "name": "stdout"
        }
      ]
    },
    {
      "cell_type": "markdown",
      "metadata": {
        "colab_type": "text",
        "id": "lV_OXHtfYvDf"
      },
      "source": [
        "# Example of getting sentiment scores for German sentences"
      ]
    },
    {
      "cell_type": "code",
      "metadata": {
        "colab_type": "code",
        "id": "zIrB782yYvDj",
        "colab": {
          "base_uri": "https://localhost:8080/",
          "height": 229
        },
        "outputId": "2653bbbe-b768-44ce-a41a-fbd21b80a962"
      },
      "source": [
        "print('{:<20}  {}'.format('Score', 'Sentence'))\n",
        "for i in range(10):\n",
        "  sentence = sentences[de_indeces[i]]\n",
        "  score = sentiment.sentence_sentiment(str(sentence), 'de')\n",
        "\n",
        "  print('{:<20}  {}'.format(score, sentence))"
      ],
      "execution_count": 40,
      "outputs": [
        {
          "output_type": "stream",
          "text": [
            "Score                 Sentence\n",
            "-0.5217333333333333   Den Verdacht hegten Experten der Europäischen Union schon länger, jetzt liegen ihnen Beweise vor: Bio-Obst und -Gemüse, das aus den israelischen Siedlungen im besetzten Westjordanland und auf den Golanhöhen stammt, wird häufig falsch deklariert und als Ware \"Made in Israel\" in die EU exportiert.\n",
            "0.004                 Das Lebensmittel- und Veterinäramt in Brüssel habe bei Kontrollen vor Ort eindeutige Beweise gesichert, heißt es in einem internen Kommissionsbericht, und die israelischen Behörden zur Rede gestellt.\n",
            "0.0785                Als \"Made in Israel\" dürfen Exporteure laut einer Anweisung der EU-Kommission nur Waren deklarieren, die innerhalb der \"international anerkannten Grenzen des Staates Israel\" produziert werden.\n",
            "0.004                 Die EU teilte den Mitgliedstaaten jetzt mit, dass sie die israelische Zertifizierung von Bio-Produkten nicht länger akzeptieren werde.\n",
            "0                     Ab 1. Februar müssen die Mitgliedstaaten den Etikettenschwindel selbst verantworten, wenn sie das wollen.\n",
            "0                     Doch die meisten Länder werden sich der EU-Direktive wohl anschließen.\n",
            "0.004                 Das Landwirtschaftsministerium in Berlin etwa erklärt, solche Bio-Produkte müssten den Herkunftshinweis \"Besetzte palästinensische Gebiete\" tragen - was beim Verkauf hinderlich sein dürfte.\n",
            "-0.3684               Der Berliner Onlinelieferdienst Bonativo vertreibt Bio-Lebensmittel ohne eine dafür gesetzlich nötige Bio-Zertifizierung.\n",
            "0                     Geschäftsführer Christian Eggert räumte ein, bisher lediglich in Kontakt mit Kontrollfirmen zu sein, um den \"Prozess der Zertifizierung\" zu beginnen.\n",
            "0                     Dabei hätte das Unternehmen die Bio-Zulassung für den Verkauf bereits bei seinem Start im Januar gebraucht.\n"
          ],
          "name": "stdout"
        }
      ]
    }
  ]
}