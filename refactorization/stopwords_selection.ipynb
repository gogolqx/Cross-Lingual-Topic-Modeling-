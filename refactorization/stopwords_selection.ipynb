{
  "nbformat": 4,
  "nbformat_minor": 0,
  "metadata": {
    "colab": {
      "name": "stopwords_selection.ipynb",
      "provenance": [],
      "collapsed_sections": []
    },
    "kernelspec": {
      "name": "python3",
      "display_name": "Python 3"
    }
  },
  "cells": [
    {
      "cell_type": "code",
      "metadata": {
        "id": "8a65h-vOmDek",
        "colab_type": "code",
        "colab": {
          "base_uri": "https://localhost:8080/",
          "height": 55
        },
        "outputId": "8210501d-1b81-42c7-f498-0b81098f534b"
      },
      "source": [
        "from google.colab import drive\n",
        "drive.mount('/content/drive')"
      ],
      "execution_count": 1,
      "outputs": [
        {
          "output_type": "stream",
          "text": [
            "Drive already mounted at /content/drive; to attempt to forcibly remount, call drive.mount(\"/content/drive\", force_remount=True).\n"
          ],
          "name": "stdout"
        }
      ]
    },
    {
      "cell_type": "markdown",
      "metadata": {
        "id": "BxIOivDbXnrK",
        "colab_type": "text"
      },
      "source": [
        "# Import modules and utilities"
      ]
    },
    {
      "cell_type": "code",
      "metadata": {
        "id": "tp5yh4U2X2lJ",
        "colab_type": "code",
        "colab": {
          "base_uri": "https://localhost:8080/",
          "height": 53
        },
        "outputId": "0c8b086f-3482-4fed-c75d-2cb507ebb72c"
      },
      "source": [
        "%cd '/content/drive/My Drive/Colab Notebooks/opinion-lab-group-2.3/refactorization'\n",
        "%pwd "
      ],
      "execution_count": 2,
      "outputs": [
        {
          "output_type": "stream",
          "text": [
            "/content/drive/My Drive/Colab Notebooks/opinion-lab-group-2.3/refactorization\n"
          ],
          "name": "stdout"
        },
        {
          "output_type": "execute_result",
          "data": {
            "application/vnd.google.colaboratory.intrinsic": {
              "type": "string"
            },
            "text/plain": [
              "'/content/drive/My Drive/Colab Notebooks/opinion-lab-group-2.3/refactorization'"
            ]
          },
          "metadata": {
            "tags": []
          },
          "execution_count": 2
        }
      ]
    },
    {
      "cell_type": "code",
      "metadata": {
        "id": "Wnn1fik7X3w_",
        "colab_type": "code",
        "colab": {
          "base_uri": "https://localhost:8080/",
          "height": 88
        },
        "outputId": "83d64174-84d7-4652-aaea-ae7cd4963f24"
      },
      "source": [
        "import numpy as np\n",
        "import matplotlib.pyplot as plt\n",
        "from sklearn.feature_extraction.text import CountVectorizer\n",
        "\n",
        "from util import load_sentences"
      ],
      "execution_count": 3,
      "outputs": [
        {
          "output_type": "stream",
          "text": [
            "[nltk_data] Downloading package stopwords to /root/nltk_data...\n",
            "[nltk_data]   Package stopwords is already up-to-date!\n",
            "[nltk_data] Downloading package punkt to /root/nltk_data...\n",
            "[nltk_data]   Package punkt is already up-to-date!\n"
          ],
          "name": "stdout"
        }
      ]
    },
    {
      "cell_type": "markdown",
      "metadata": {
        "id": "2H1beuTWZO4Q",
        "colab_type": "text"
      },
      "source": [
        "# Load pre-processed English sentences "
      ]
    },
    {
      "cell_type": "code",
      "metadata": {
        "id": "Sl1XjjXVZNzR",
        "colab_type": "code",
        "colab": {
          "base_uri": "https://localhost:8080/",
          "height": 70
        },
        "outputId": "c7f3226e-d090-4dd0-c35b-5ed465e9cf09"
      },
      "source": [
        "directory = '/content/drive/My Drive/Colab Notebooks/opinion-lab-group-2.3/refactorization/data/'\n",
        "\n",
        "sentences = load_sentences(directory + 'all_sentences_str.json')\n",
        "sentences = np.array(sentences)\n",
        "en_sentence_global_id = np.load(directory + 'en_sentence_global_id.npy')\n",
        "de_sentence_global_id = np.load(directory + 'de_sentence_global_id.npy')\n",
        "\n",
        "en_sentences = sentences[en_sentence_global_id]\n",
        "de_sentences = sentences[de_sentence_global_id]\n",
        "\n",
        "# other method\n",
        "# en_sentences = np.load(directory + 'en_sentences.npy')\n",
        "# de_sentences = np.load(directory + 'de_sentences.npy')"
      ],
      "execution_count": 4,
      "outputs": [
        {
          "output_type": "stream",
          "text": [
            "Sentences file - loaded\n",
            "Done - appended all sentences\n",
            "Number of tokenized sentences from corpus: 353786\n"
          ],
          "name": "stdout"
        }
      ]
    },
    {
      "cell_type": "code",
      "metadata": {
        "id": "oPwgbdSnp5O0",
        "colab_type": "code",
        "colab": {
          "base_uri": "https://localhost:8080/",
          "height": 53
        },
        "outputId": "a8be4a73-edb1-4173-bb1c-caf5712148ba"
      },
      "source": [
        "print('Total number of English sentences:', len(en_sentences))\n",
        "print('Total number of German sentences:', len(de_sentences))"
      ],
      "execution_count": 5,
      "outputs": [
        {
          "output_type": "stream",
          "text": [
            "Total number of English sentences: 127464\n",
            "Total number of German sentences: 200627\n"
          ],
          "name": "stdout"
        }
      ]
    },
    {
      "cell_type": "markdown",
      "metadata": {
        "id": "pev_u0z9q5iE",
        "colab_type": "text"
      },
      "source": [
        "# Obtain most frequent words (TF-High) as stopwords\n",
        "\n",
        "These high frequency stopwords are used stored in class Stopwords in util.ipynb.\n",
        "\n",
        "References: \n",
        "*   [On stopwords, filtering and data sparsity for sentiment\n",
        "analysis of Twitter](http://oro.open.ac.uk/40666/1/292_Paper.pdf)\n",
        "*   [sklearn.feature_extraction.text.CountVectorizer](https://scikit-learn.org/stable/modules/generated/sklearn.feature_extraction.text.CountVectorizer.html)"
      ]
    },
    {
      "cell_type": "code",
      "metadata": {
        "id": "8Fp2Yl-Tq5BO",
        "colab_type": "code",
        "colab": {}
      },
      "source": [
        "def show_tf_high_terms(sentences: np.array, threshold = 5000, print_max = 500):\n",
        "  vectorizer = CountVectorizer()\n",
        "  X = vectorizer.fit_transform(sentences)\n",
        "  tf = X.sum(axis = 0)\n",
        "  tf = np.array(tf).flatten()\n",
        "\n",
        "  tf_indices_in_desc = tf.argsort()[::-1]\n",
        "  tf_in_desc = np.take(tf, tf_indices_in_desc)\n",
        "\n",
        "  # get rank for last term with tf >= threshold\n",
        "  threshold = threshold\n",
        "  last_rank_above_threshold = np.where(tf_in_desc >= threshold)[0][-1] + 1\n",
        "\n",
        "  print('Number of distinct words:', len(tf_in_desc))\n",
        "  print('Number of words with frequency > {}: {}, i.e. {:.2f}%'.format(threshold, last_rank_above_threshold, (last_rank_above_threshold/len(tf_in_desc))*100))\n",
        "  print()\n",
        "\n",
        "  print_max = print_max\n",
        "  plt.axes(title = 'Frequency plot for first ' + str(print_max) + ' highest frequent terms', xlabel = 'Rank of words', ylabel = 'Frequency of words')\n",
        "  plt.plot(tf_in_desc[0:print_max])\n",
        "  label = str(last_rank_above_threshold) + ' terms with tf >= ' + str(threshold)\n",
        "  ax = plt.gca()\n",
        "  ymin, ymax = ax.get_ylim()\n",
        "  plt.vlines(x = last_rank_above_threshold, ymin = ymin, ymax = ymax, colors = 'red', linestyles = 'dotted', label = 'left part of line: word frequency > ' + str(threshold))\n",
        "  plt.legend()\n",
        "  plt.show()\n",
        "\n",
        "  stopwords = np.array(vectorizer.get_feature_names())\n",
        "  stopwords = stopwords[tf_indices_in_desc[:last_rank_above_threshold ]]\n",
        "  print()\n",
        "  print('TF-High stopwords:')\n",
        "  print(stopwords)"
      ],
      "execution_count": 6,
      "outputs": []
    },
    {
      "cell_type": "markdown",
      "metadata": {
        "id": "Kd9tBls72yIJ",
        "colab_type": "text"
      },
      "source": [
        "## English source, i.e. pre-processed sentences from NYTimes and Quora"
      ]
    },
    {
      "cell_type": "code",
      "metadata": {
        "id": "PYSG4Zab25Rf",
        "colab_type": "code",
        "colab": {
          "base_uri": "https://localhost:8080/",
          "height": 473
        },
        "outputId": "6d29ab3c-3220-406b-bab5-edf6ee69bfee"
      },
      "source": [
        "EN_TFHIGH = show_tf_high_terms(en_sentences)"
      ],
      "execution_count": 7,
      "outputs": [
        {
          "output_type": "stream",
          "text": [
            "Number of distinct words: 43255\n",
            "Number of words with frequency > 5000: 52, i.e. 0.12%\n",
            "\n"
          ],
          "name": "stdout"
        },
        {
          "output_type": "display_data",
          "data": {
            "image/png": "[encoded data removed]",
            "text/plain": [
              "<Figure size 432x288 with 1 Axes>"
            ]
          },
          "metadata": {
            "tags": [],
            "needs_background": "light"
          }
        },
        {
          "output_type": "stream",
          "text": [
            "\n",
            "TF-High stopwords:\n",
            "['the' 'and' 'to' 'of' 'is' 'in' 'that' 'organic' 'it' 'are' 'not' 'for'\n",
            " 'you' 'food' 'as' 'have' 'be' 'on' 'with' 'they' 'or' 'but' 'this' 'from'\n",
            " 'more' 'we' 'do' 'can' 'there' 'if' 'by' 'at' 'all' 'foods' 'about'\n",
            " 'what' 'has' 'will' 'so' 'their' 'an' 'your' 'would' 'than' 'people' 'no'\n",
            " 'which' 'like' 'was' 'one' 'some' 'my']\n"
          ],
          "name": "stdout"
        }
      ]
    },
    {
      "cell_type": "markdown",
      "metadata": {
        "id": "9s1Eq4nJVcFV",
        "colab_type": "text"
      },
      "source": [
        "# German Source, i.e. pre-processed sentences from Die Spiegel "
      ]
    },
    {
      "cell_type": "code",
      "metadata": {
        "id": "lwVFJuguVmlE",
        "colab_type": "code",
        "colab": {
          "base_uri": "https://localhost:8080/",
          "height": 490
        },
        "outputId": "f48f6ecd-adce-477f-dd27-483c45b3b049"
      },
      "source": [
        "DE_TFHIGH = show_tf_high_terms(de_sentences)"
      ],
      "execution_count": 8,
      "outputs": [
        {
          "output_type": "stream",
          "text": [
            "Number of distinct words: 73081\n",
            "Number of words with frequency > 5000: 63, i.e. 0.09%\n",
            "\n"
          ],
          "name": "stdout"
        },
        {
          "output_type": "display_data",
          "data": {
            "image/png": "[encoded data removed]",
            "text/plain": [
              "<Figure size 432x288 with 1 Axes>"
            ]
          },
          "metadata": {
            "tags": [],
            "needs_background": "light"
          }
        },
        {
          "output_type": "stream",
          "text": [
            "\n",
            "TF-High stopwords:\n",
            "['die' 'und' 'der' 'ist' 'das' 'nicht' 'von' 'in' 'es' 'sie' 'zu' 'den'\n",
            " 'ich' 'auch' 'mit' 'zitat' 'ein' 'sich' 'für' 'auf' 'man' 'sind' 'dass'\n",
            " 'aber' 'werden' 'wie' 'im' 'nur' 'oder' 'wenn' 'eine' 'so' 'bei' 'als'\n",
            " 'wird' 'aus' 'was' 'dem' 'noch' 'bio' 'an' 'dann' 'haben' 'kann' 'da'\n",
            " 'hat' 'mehr' 'wir' 'um' 'mal' 'doch' 'schon' 'ja' 'nach' 'sein' 'keine'\n",
            " 'immer' 'einen' 'des' 'gibt' 'hier' 'diese' 'durch']\n"
          ],
          "name": "stdout"
        }
      ]
    }
  ]
}